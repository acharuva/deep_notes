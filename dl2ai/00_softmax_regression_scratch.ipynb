{
 "cells": [
  {
   "cell_type": "markdown",
   "metadata": {},
   "source": [
    "## Logistic Regression\n",
    "* Minimal, from scratch implementation of multi-class softmax regression \n",
    "* The only pytorch functionality I am using is computing the gradient using `loss.backward()`\n",
    "* Dataset is fashion MNIST"
   ]
  },
  {
   "cell_type": "code",
   "execution_count": 1,
   "metadata": {},
   "outputs": [],
   "source": [
    "from d2l import torch as d2l\n",
    "import torch\n",
    "from IPython import display"
   ]
  },
  {
   "cell_type": "code",
   "execution_count": 2,
   "metadata": {},
   "outputs": [],
   "source": [
    "num_inputs = 28*28\n",
    "num_outputs = 10"
   ]
  },
  {
   "cell_type": "code",
   "execution_count": 3,
   "metadata": {},
   "outputs": [],
   "source": [
    "batch_size = 256\n",
    "train_iter, test_iter = d2l.load_data_fashion_mnist(batch_size)"
   ]
  },
  {
   "cell_type": "code",
   "execution_count": 4,
   "metadata": {},
   "outputs": [],
   "source": [
    "W = torch.normal(0, 0.01, (num_inputs, num_outputs), requires_grad=True)\n",
    "b = torch.zeros(num_outputs, requires_grad=True)"
   ]
  },
  {
   "cell_type": "markdown",
   "metadata": {},
   "source": [
    "#### Softmax Model\n",
    "\\begin{align}\n",
    "logits&=XW+b\\\\y\\_probs&=softmax\\left(logits\\right)\\\\softmax\\left(z\\right)_{i}&=\\dfrac{\\exp\\left(z_{i}\\right)}{\\sum_{j=1}^{K}\\exp\\left(z_{j}\\right)}\n",
    "\\end{align}"
   ]
  },
  {
   "cell_type": "code",
   "execution_count": 5,
   "metadata": {},
   "outputs": [],
   "source": [
    "def net(X):\n",
    "    logits = torch.mm(X.reshape(-1, num_inputs), W) + b\n",
    "    log_exp = torch.exp(logits)\n",
    "    y_probs = log_exp/log_exp.sum(axis=1).reshape(-1, 1)\n",
    "    return y_probs"
   ]
  },
  {
   "cell_type": "markdown",
   "metadata": {},
   "source": [
    "#### Cross Entropy Loss\n",
    "\n",
    "For each example\n",
    "$$cross\\_entropy\\left(y,y\\_probs\\right)=-\\sum_{i=1}^{K}y_{i}\\log y\\_probs_{i}$$\n",
    "Average over all examples\n",
    "$$ loss=\\dfrac{1}{N}\\sum_{n=1}^{N}cross\\_entropy\\left(y,y\\_probs\\right)$$"
   ]
  },
  {
   "cell_type": "code",
   "execution_count": 6,
   "metadata": {},
   "outputs": [],
   "source": [
    "def cross_entropy(y, y_probs):\n",
    "    n_batch = y_batch.shape[0]\n",
    "    loss_ex = -torch.log(\n",
    "                        y_probs[range(0, n_batch), y_batch])\n",
    "    \n",
    "    # if we use torch.sum instead the training will fail probably because of large \n",
    "    # values of the loss\n",
    "    loss = torch.mean(loss_ex)\n",
    "    \n",
    "    return loss"
   ]
  },
  {
   "cell_type": "code",
   "execution_count": 7,
   "metadata": {},
   "outputs": [],
   "source": [
    "def accuracy(test_iter, net):\n",
    "    num_correct, num_total = 0, 0\n",
    "    for x_batch, y_batch in test_iter:\n",
    "        y_probs = net(x_batch)\n",
    "        y_hat = y_probs.argmax(axis=1)\n",
    "        num_correct += (y_hat == y_batch).int().sum().item()\n",
    "        num_total += y_batch.shape[0]\n",
    "    \n",
    "    return num_correct/num_total"
   ]
  },
  {
   "cell_type": "code",
   "execution_count": 8,
   "metadata": {},
   "outputs": [],
   "source": [
    "lr = 0.1\n",
    "num_epochs = 10"
   ]
  },
  {
   "cell_type": "code",
   "execution_count": 9,
   "metadata": {},
   "outputs": [
    {
     "name": "stdout",
     "output_type": "stream",
     "text": [
      "1: loss = 2.316   test acc: = 0.180\n",
      "101: loss = 0.771   test acc: = 0.764\n",
      "201: loss = 0.633   test acc: = 0.774\n",
      "301: loss = 0.466   test acc: = 0.802\n",
      "401: loss = 0.514   test acc: = 0.804\n",
      "501: loss = 0.687   test acc: = 0.796\n",
      "601: loss = 0.507   test acc: = 0.817\n",
      "701: loss = 0.456   test acc: = 0.816\n",
      "801: loss = 0.485   test acc: = 0.820\n",
      "901: loss = 0.553   test acc: = 0.825\n",
      "1001: loss = 0.509   test acc: = 0.825\n",
      "1101: loss = 0.513   test acc: = 0.825\n",
      "1201: loss = 0.463   test acc: = 0.825\n",
      "1301: loss = 0.456   test acc: = 0.826\n",
      "1401: loss = 0.560   test acc: = 0.823\n",
      "1501: loss = 0.492   test acc: = 0.832\n",
      "1601: loss = 0.426   test acc: = 0.831\n",
      "1701: loss = 0.408   test acc: = 0.831\n",
      "1801: loss = 0.483   test acc: = 0.831\n",
      "1901: loss = 0.548   test acc: = 0.835\n",
      "2001: loss = 0.372   test acc: = 0.828\n",
      "2101: loss = 0.515   test acc: = 0.834\n",
      "2201: loss = 0.466   test acc: = 0.832\n",
      "2301: loss = 0.383   test acc: = 0.833\n"
     ]
    }
   ],
   "source": [
    "iter_counter = 0\n",
    "for epoch in range(num_epochs):\n",
    "    for x_batch, y_batch in train_iter:    \n",
    "        y_probs = net(x_batch)\n",
    "        loss = cross_entropy(y_batch, y_probs)\n",
    "        \n",
    "        if not W.grad is None:\n",
    "            W.grad.zero_()\n",
    "            b.grad.zero_()\n",
    "        \n",
    "        loss.backward()\n",
    "\n",
    "        with torch.no_grad():\n",
    "            W -= lr*W.grad\n",
    "            b -= lr*b.grad\n",
    "            \n",
    "        iter_counter += 1\n",
    "        if iter_counter % 100 == 1:\n",
    "            with torch.no_grad():\n",
    "                test_acc = accuracy(test_iter, net)\n",
    "                print(f\"{iter_counter}: loss = {loss.item():.3f}  \"\\\n",
    "                          f\" test acc: = {test_acc:.3f}\")"
   ]
  },
  {
   "cell_type": "code",
   "execution_count": null,
   "metadata": {},
   "outputs": [],
   "source": []
  }
 ],
 "metadata": {
  "kernelspec": {
   "display_name": "DyWRA",
   "language": "python",
   "name": "dywra"
  },
  "language_info": {
   "codemirror_mode": {
    "name": "ipython",
    "version": 3
   },
   "file_extension": ".py",
   "mimetype": "text/x-python",
   "name": "python",
   "nbconvert_exporter": "python",
   "pygments_lexer": "ipython3",
   "version": "3.7.0"
  }
 },
 "nbformat": 4,
 "nbformat_minor": 4
}
