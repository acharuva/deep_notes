{
 "cells": [
  {
   "cell_type": "markdown",
   "metadata": {},
   "source": [
    "# Summary\n",
    "* Overfitting and Generalization\n",
    "* Training Error vs Generalization Error\n",
    "* Generalization error is the expected error over entire universe of data. Can't be obtained. Instead we get empirical errror on the test set.\n",
    "* We can do better on training just because we got a more \"fittable\" training set.\n",
    "* [Glivenko–Cantelli_theorem](https://en.wikipedia.org/wiki/Glivenko%E2%80%93Cantelli_theorem) and [Vapnik-Chervonenkis](https://en.wikipedia.org/wiki/Vapnik%E2%80%93Chervonenkis_theory)\n",
    "* Typically IID assumption is made on data, but you need to be careful about this assumption.\n",
    "    * Classifying topics of tweets, they may depend on the news cycle.\n",
    "    * Training and Test distribution might be different.\n",
    "        - Training mortality rate from one hospital and applying it to different one.\n",
    "        - Face detector trained on college students and applied to geriatric patients.\n",
    "        - Dibetic retinopathy images problem\n",
    "* Most Statistical Analysis is post-hoc. Done after collecting the data.\n",
    "* Model Selection -- Selecting one model by using some validation procedure such as validation error or k-fold\n",
    "* Model "
   ]
  },
  {
   "cell_type": "code",
   "execution_count": null,
   "metadata": {},
   "outputs": [],
   "source": []
  }
 ],
 "metadata": {
  "hide_input": false,
  "kernelspec": {
   "display_name": "DyWRA",
   "language": "python",
   "name": "dywra"
  },
  "language_info": {
   "codemirror_mode": {
    "name": "ipython",
    "version": 3
   },
   "file_extension": ".py",
   "mimetype": "text/x-python",
   "name": "python",
   "nbconvert_exporter": "python",
   "pygments_lexer": "ipython3",
   "version": "3.7.0"
  },
  "toc": {
   "base_numbering": 1,
   "nav_menu": {},
   "number_sections": true,
   "sideBar": true,
   "skip_h1_title": false,
   "title_cell": "Table of Contents",
   "title_sidebar": "Contents",
   "toc_cell": false,
   "toc_position": {},
   "toc_section_display": true,
   "toc_window_display": false
  }
 },
 "nbformat": 4,
 "nbformat_minor": 4
}
