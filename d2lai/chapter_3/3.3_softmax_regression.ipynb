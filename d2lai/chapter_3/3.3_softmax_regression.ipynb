{
 "cells": [
  {
   "cell_type": "markdown",
   "metadata": {},
   "source": [
    "# Softmax Regression"
   ]
  },
  {
   "cell_type": "markdown",
   "metadata": {},
   "source": [
    "#### NOTE:\n",
    "\n",
    "Softmax regression model\n",
    "\n",
    "$$\n",
    "\\begin{align}\n",
    "\\hat{\\mathbf{y}} &=softmax\\left(\\mathbf{o}\\right)\\\\\n",
    "\\mathbf{o}&=W\\mathbf{x} + \\mathbf{b}\n",
    "\\end{align}\n",
    "$$\n",
    "\n",
    "$\\mathbf{o}$ are called *Logits* "
   ]
  },
  {
   "cell_type": "markdown",
   "metadata": {},
   "source": [
    "Softmax Operator is defined as follows\n",
    "$$ \n",
    "\\begin{align}\n",
    "\\hat{\\mathbf{y}}=softmax(\\mathbf{o}) \\\\\n",
    "\\hat{y}_{j}=\\dfrac{\\exp\\left(o_{j}\\right)}{\\sum_{k}\\exp\\left(o_{k}\\right)}\n",
    "\\end{align}\n",
    "$$\n",
    "\n",
    "Although softmax is a nonlinear function, the outputs of softmax regression are still determined by an affine transformation of input features; thus, softmax regression is a linear model."
   ]
  },
  {
   "cell_type": "markdown",
   "metadata": {},
   "source": [
    "We can interpret $\\hat{\\mathbf{y}}$ as conditional probabilities of each class given the input. \n",
    "i.e. $\\hat{y}_{1}=P\\left(class_{1}\\mid x\\right)$"
   ]
  },
  {
   "cell_type": "code",
   "execution_count": null,
   "metadata": {},
   "outputs": [],
   "source": []
  }
 ],
 "metadata": {
  "kernelspec": {
   "display_name": "DyWRA",
   "language": "python",
   "name": "dywra"
  },
  "language_info": {
   "codemirror_mode": {
    "name": "ipython",
    "version": 3
   },
   "file_extension": ".py",
   "mimetype": "text/x-python",
   "name": "python",
   "nbconvert_exporter": "python",
   "pygments_lexer": "ipython3",
   "version": "3.7.0"
  }
 },
 "nbformat": 4,
 "nbformat_minor": 4
}
