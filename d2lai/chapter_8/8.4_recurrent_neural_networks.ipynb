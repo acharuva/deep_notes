{
 "cells": [
  {
   "cell_type": "markdown",
   "metadata": {},
   "source": [
    "# 8.4. Recurrent Neural Networks"
   ]
  },
  {
   "cell_type": "markdown",
   "metadata": {},
   "source": [
    "* Why is modeling RHS (as latent state) more preferable to the LHS as conditional density?\n",
    "$$ P(x_t \\mid x_{t-1}, \\ldots, x_1) \\approx P(x_t \\mid h_{t-1}) $$\n",
    "* What is the distinction between hidden layers and hidden state?  \n",
    "* Write the basic model of one hidden layer recurrent neural network?"
   ]
  },
  {
   "cell_type": "markdown",
   "metadata": {},
   "source": [
    "$$H_{t} = prod(X_{t}, W_{xy}) + prod(H_{t-1}, W_{hh} + b_h)$$\n",
    "$$O_{t} = prod(H_{t}, W_{hq}) + b_q$$\n",
    "\n",
    "* How does the parameterization cost grow with the length of the sequence?"
   ]
  },
  {
   "cell_type": "markdown",
   "metadata": {},
   "source": [
    "- We can concatenate $[X_{t}, H_{t}]$ and use a single matrix of parameters which is equivalent to $[W_{xy}, W_{hh}]$"
   ]
  },
  {
   "cell_type": "markdown",
   "metadata": {},
   "source": [
    "Cross-Entropy loss averaged over all n tokens\n",
    "\n",
    "$$ CE \\equiv \\frac{1}{n} \\sum_{t=1}^n -\\log P(x_t \\mid x_{t-1}, \\ldots, x_1),$$\n",
    "\n",
    "Perplexity\n",
    "$$ \\exp\\left(CE\\right) $$"
   ]
  },
  {
   "cell_type": "markdown",
   "metadata": {},
   "source": [
    "* What is the perplexity when a) when the probability of  correct token is 1 always b) when the probability of correct token is always 0 (c) each token has equal probability?"
   ]
  },
  {
   "cell_type": "code",
   "execution_count": null,
   "metadata": {},
   "outputs": [],
   "source": []
  }
 ],
 "metadata": {
  "kernelspec": {
   "display_name": "d2l",
   "language": "python",
   "name": "d2l"
  },
  "language_info": {
   "codemirror_mode": {
    "name": "ipython",
    "version": 3
   },
   "file_extension": ".py",
   "mimetype": "text/x-python",
   "name": "python",
   "nbconvert_exporter": "python",
   "pygments_lexer": "ipython3",
   "version": "3.8.8"
  }
 },
 "nbformat": 4,
 "nbformat_minor": 4
}
