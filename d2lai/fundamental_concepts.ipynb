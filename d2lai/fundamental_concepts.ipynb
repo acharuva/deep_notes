{
 "cells": [
  {
   "cell_type": "markdown",
   "metadata": {},
   "source": [
    "### Information Theory\n",
    "Surprisal: \n",
    "$$ \\log\\dfrac{1}{P}$$\n",
    "\n",
    "Entropy: \n",
    "$$H\\left[P\\right]=\\mathbb{E}_{P}\\left[\\log\\dfrac{1}{P}\\right] $$\n",
    "\n",
    "Cross Entropy:  \n",
    "$$ H\\left(P,Q\\right)=\\mathbb{E}_{P}\\left[\\log\\dfrac{1}{Q}\\right] $$\n",
    "\n",
    "KL-Divergence: \n",
    "$$ D_{KL}\\left(P||Q\\right)=\\mathbb{E}_{P}\\left[\\log\\dfrac{P}{Q}\\right] $$"
   ]
  },
  {
   "cell_type": "markdown",
   "metadata": {},
   "source": []
  }
 ],
 "metadata": {
  "kernelspec": {
   "display_name": "Python 3",
   "language": "python",
   "name": "python3"
  },
  "language_info": {
   "codemirror_mode": {
    "name": "ipython",
    "version": 3
   },
   "file_extension": ".py",
   "mimetype": "text/x-python",
   "name": "python",
   "nbconvert_exporter": "python",
   "pygments_lexer": "ipython3",
   "version": "3.8.5"
  }
 },
 "nbformat": 4,
 "nbformat_minor": 4
}
