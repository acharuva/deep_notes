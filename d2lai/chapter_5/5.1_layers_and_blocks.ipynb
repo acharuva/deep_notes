{
 "cells": [
  {
   "cell_type": "markdown",
   "metadata": {},
   "source": [
    "* We can think of neural networks and components at differnt layers of abstraction/grouping -- single neuron, layers of neurons, the whole network and **blocks** (groups of layers)"
   ]
  },
  {
   "cell_type": "markdown",
   "metadata": {},
   "source": [
    "* ResNet-152 which won 2015 Imagenet and COCO CV challenges is really popular for many vision tasks."
   ]
  },
  {
   "cell_type": "markdown",
   "metadata": {},
   "source": [
    "- ResNet has 100s of layers which consist of repeating patterns of groups of layers."
   ]
  },
  {
   "cell_type": "markdown",
   "metadata": {},
   "source": [
    "- In my mind, a **block** is an abstraction similar to a Layer of neurons. It be composed of one or more layers of Neurons. It has a forward and backward function. Programmatically it can be represented by a class. "
   ]
  },
  {
   "cell_type": "code",
   "execution_count": null,
   "metadata": {},
   "outputs": [],
   "source": []
  }
 ],
 "metadata": {
  "kernelspec": {
   "display_name": "Python 3",
   "language": "python",
   "name": "python3"
  },
  "language_info": {
   "codemirror_mode": {
    "name": "ipython",
    "version": 3
   },
   "file_extension": ".py",
   "mimetype": "text/x-python",
   "name": "python",
   "nbconvert_exporter": "python",
   "pygments_lexer": "ipython3",
   "version": "3.8.5"
  }
 },
 "nbformat": 4,
 "nbformat_minor": 5
}
